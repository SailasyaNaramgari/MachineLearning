{
  "nbformat": 4,
  "nbformat_minor": 0,
  "metadata": {
    "colab": {
      "provenance": []
    },
    "kernelspec": {
      "name": "python3",
      "display_name": "Python 3"
    },
    "language_info": {
      "name": "python"
    }
  },
  "cells": [
    {
      "cell_type": "code",
      "execution_count": 2,
      "metadata": {
        "colab": {
          "base_uri": "https://localhost:8080/"
        },
        "id": "wRmknfLquvO0",
        "outputId": "a98b123f-5150-44b2-e934-d048e83005a4"
      },
      "outputs": [
        {
          "output_type": "stream",
          "name": "stdout",
          "text": [
            "Attributes = ['Sky', 'Temp', 'Humidity', 'Wind', 'Water', 'Forecast']\n",
            "6\n",
            "[['Sky', 'AirTemp', 'Humidity', 'Wind', 'Water', 'Forecast', 'EnjoySport'], ['Sunny', 'Warm', 'Normal', 'Strong', 'Warm', 'Same', '1'], ['Sunny', 'Warm', 'High', 'Strong', 'Warm', 'Same', '1'], ['Rainy', 'Cold', 'High', 'Strong', 'Warm', 'Change', '0'], ['Sunny', 'Warm', 'High', 'Strong', 'Cool', 'Change', '1']]\n",
            "\n",
            " The total number of training instances are :  5\n",
            "\n",
            " The initial hypothesis is : \n",
            "['0', '0', '0', '0', '0', '0']\n",
            "\n",
            " The hypothesis for the training instance 1 is :\n",
            " ['0', '0', '0', '0', '0', '0']\n",
            "\n",
            " The hypothesis for the training instance 2 is :\n",
            " ['Sunny', 'Warm', 'Normal', 'Strong', 'Warm', 'Same']\n",
            "\n",
            " The hypothesis for the training instance 3 is :\n",
            " ['Sunny', 'Warm', '?', 'Strong', 'Warm', 'Same']\n",
            "\n",
            " The hypothesis for the training instance 4 is :\n",
            " ['Sunny', 'Warm', '?', 'Strong', 'Warm', 'Same']\n",
            "\n",
            " The hypothesis for the training instance 5 is :\n",
            " ['Sunny', 'Warm', '?', 'Strong', '?', '?']\n",
            "\n",
            " The Maximally specific hypothesis for the training instance is \n",
            "['Sunny', 'Warm', '?', 'Strong', '?', '?']\n"
          ]
        }
      ],
      "source": [
        "import csv\n",
        "\n",
        "a = []\n",
        "attributes = ['Sky','Temp','Humidity','Wind','Water','Forecast']\n",
        "print('Attributes =',attributes)\n",
        "num_attributes = len(attributes)\n",
        "print(num_attributes)\n",
        "\n",
        "with open('ENJOYSPORT.csv', 'r') as csvfile:\n",
        "  for row in csv.reader(csvfile):\n",
        "    a.append(row)\n",
        "print(a)\n",
        "\n",
        "print(\"\\n The total number of training instances are : \",len(a))\n",
        "num_attribute = len(a[0])-1\n",
        "print(\"\\n The initial hypothesis is : \")\n",
        "hypothesis = ['0']*num_attribute\n",
        "print(hypothesis)\n",
        "for i in range(0, len(a)):\n",
        "  if a[i][num_attribute] == '1':\n",
        "    for j in range(0, num_attribute):\n",
        "      if hypothesis[j] == '0' or hypothesis[j] == a[i][j]:\n",
        "        hypothesis[j] = a[i][j]\n",
        "      else:\n",
        "        hypothesis[j] = '?'\n",
        "  print(\"\\n The hypothesis for the training instance {} is :\\n\" .format(i+1),hypothesis)\n",
        "\n",
        "print(\"\\n The Maximally specific hypothesis for the training instance is \")\n",
        "\n",
        "print(hypothesis)"
      ]
    },
    {
      "cell_type": "code",
      "source": [
        "import csv\n",
        "\n",
        "a = []\n",
        "attributes = ['Sky','Temp','Humidity','Wind','Water','Forecast']\n",
        "print('Attributes =',attributes)\n",
        "num_attributes = len(attributes)\n",
        "print(num_attributes)\n",
        "\n",
        "with open('sample.csv', 'r') as csvfile:\n",
        "  for row in csv.reader(csvfile):\n",
        "    a.append(row)\n",
        "print(a)\n",
        "\n",
        "print(\"\\n The total number of training instances are : \",len(a))\n",
        "num_attribute = len(a[0])-1\n",
        "print(\"\\n The initial hypothesis is : \")\n",
        "hypothesis = ['0']*num_attribute\n",
        "print(hypothesis)\n",
        "for i in range(0, len(a)):\n",
        "  if a[i][num_attribute] == 'yes':\n",
        "    for j in range(0, num_attribute):\n",
        "      if hypothesis[j] == '0' or hypothesis[j] == a[i][j]:\n",
        "        hypothesis[j] = a[i][j]\n",
        "      else:\n",
        "        hypothesis[j] = '?'\n",
        "  print(\"\\n The hypothesis for the training instance {} is :\\n\" .format(i+1),hypothesis)\n",
        "\n",
        "print(\"\\n The Maximally specific hypothesis for the training instance is \")\n",
        "\n",
        "print(hypothesis)"
      ],
      "metadata": {
        "colab": {
          "base_uri": "https://localhost:8080/"
        },
        "id": "81qUiAuMvgVd",
        "outputId": "b5d192e8-49f1-4984-b057-c8c630d67c84"
      },
      "execution_count": 4,
      "outputs": [
        {
          "output_type": "stream",
          "name": "stdout",
          "text": [
            "Attributes = ['Sky', 'Temp', 'Humidity', 'Wind', 'Water', 'Forecast']\n",
            "6\n",
            "[['Sky', 'AirTemp', 'Humidity', 'Wind', 'Water', 'Forecast', 'EnjoySport'], ['sunny', 'warm', 'normal', 'strong', 'warm', 'same', 'yes'], ['sunny', 'warm', 'high', 'strong', 'warm', 'same', 'yes'], ['rainy', 'cold', 'high', 'strong', 'warm', 'change', 'no'], ['sunny', 'warm', 'high', 'strong', 'cool', 'change', 'yes']]\n",
            "\n",
            " The total number of training instances are :  5\n",
            "\n",
            " The initial hypothesis is : \n",
            "['0', '0', '0', '0', '0', '0']\n",
            "\n",
            " The hypothesis for the training instance 1 is :\n",
            " ['0', '0', '0', '0', '0', '0']\n",
            "\n",
            " The hypothesis for the training instance 2 is :\n",
            " ['sunny', 'warm', 'normal', 'strong', 'warm', 'same']\n",
            "\n",
            " The hypothesis for the training instance 3 is :\n",
            " ['sunny', 'warm', '?', 'strong', 'warm', 'same']\n",
            "\n",
            " The hypothesis for the training instance 4 is :\n",
            " ['sunny', 'warm', '?', 'strong', 'warm', 'same']\n",
            "\n",
            " The hypothesis for the training instance 5 is :\n",
            " ['sunny', 'warm', '?', 'strong', '?', '?']\n",
            "\n",
            " The Maximally specific hypothesis for the training instance is \n",
            "['sunny', 'warm', '?', 'strong', '?', '?']\n"
          ]
        }
      ]
    },
    {
      "cell_type": "code",
      "source": [
        "import csv\n",
        "a = []\n",
        "attributes = ['Eyes','Nose','Head','Fcolor','Hair','Smile']\n",
        "print('Attributes =',attributes)\n",
        "num_attributes = len(attributes)\n",
        "print(num_attributes)\n",
        "\n",
        "with open('Smileface.csv', 'r') as csvfile:\n",
        "  for row in csv.reader(csvfile):\n",
        "    a.append(row)\n",
        "print(a)\n",
        "\n",
        "print(\"\\n The total number of training instances are : \",len(a))\n",
        "num_attribute = len(a[0])-1\n",
        "print(\"\\n The initial hypothesis is : \")\n",
        "hypothesis = ['0']*num_attribute\n",
        "print(hypothesis)\n",
        "for i in range(0, len(a)):\n",
        "  if a[i][num_attribute] == 'Yes':\n",
        "    for j in range(0, num_attribute):\n",
        "      if hypothesis[j] == '0' or hypothesis[j] == a[i][j]:\n",
        "        hypothesis[j] = a[i][j]\n",
        "      else:\n",
        "        hypothesis[j] = '?'\n",
        "  print(\"\\n The hypothesis for the training instance {} is :\\n\" .format(i+1),hypothesis)\n",
        "\n",
        "print(\"\\n The Maximally specific hypothesis for the training instance is \")\n",
        "\n",
        "print(hypothesis)"
      ],
      "metadata": {
        "colab": {
          "base_uri": "https://localhost:8080/"
        },
        "id": "Q4xum-AFZYo7",
        "outputId": "b0f46b84-50dc-4a47-a05d-0c14607bf955"
      },
      "execution_count": 5,
      "outputs": [
        {
          "output_type": "stream",
          "name": "stdout",
          "text": [
            "Attributes = ['Eyes', 'Nose', 'Head', 'Fcolor', 'Hair', 'Smile']\n",
            "6\n",
            "[['\\ufeffEyes', 'Nose', 'Head', 'Fcolor', 'Hair', 'Smile'], ['Round', 'Triangle', 'Round', 'Purple', 'Yes', 'yes'], ['Square', 'Square', 'Square', 'Green', 'Yes', 'no'], ['Square', 'Triangle', 'Round', 'Yellow', 'Yes', 'yes'], ['Round', 'Triangle', 'Round', 'Green', 'No', 'no'], ['Square', 'Square', 'Round', 'Yellow', 'Yes', 'yes']]\n",
            "\n",
            " The total number of training instances are :  6\n",
            "\n",
            " The initial hypothesis is : \n",
            "['0', '0', '0', '0', '0']\n",
            "\n",
            " The hypothesis for the training instance 1 is :\n",
            " ['0', '0', '0', '0', '0']\n",
            "\n",
            " The hypothesis for the training instance 2 is :\n",
            " ['0', '0', '0', '0', '0']\n",
            "\n",
            " The hypothesis for the training instance 3 is :\n",
            " ['0', '0', '0', '0', '0']\n",
            "\n",
            " The hypothesis for the training instance 4 is :\n",
            " ['0', '0', '0', '0', '0']\n",
            "\n",
            " The hypothesis for the training instance 5 is :\n",
            " ['0', '0', '0', '0', '0']\n",
            "\n",
            " The hypothesis for the training instance 6 is :\n",
            " ['0', '0', '0', '0', '0']\n",
            "\n",
            " The Maximally specific hypothesis for the training instance is \n",
            "['0', '0', '0', '0', '0']\n"
          ]
        }
      ]
    }
  ]
}